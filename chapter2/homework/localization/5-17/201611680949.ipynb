{
 "cells": [
  {
   "cell_type": "code",
   "execution_count": 4,
   "metadata": {
    "collapsed": false,
    "deletable": true,
    "editable": true
   },
   "outputs": [
    {
     "name": "stdout",
     "output_type": "stream",
     "text": [
      "何 事 扇\n",
      "秋 悲 风\n",
      "时 见 画\n",
      "请输入猜测诗词，回车结束，直接回车表示退出游戏：何事秋风悲画扇\n",
      "答对了，加十分\n",
      "你当前的分数是： 20\n",
      "路 画 风\n",
      "事 悲 \n",
      "\n",
      "何 秋 扇\n",
      "请输入猜测诗词，回车结束，直接回车表示退出游戏：何事秋风悲画扇\n",
      "答对了，加十分\n",
      "你当前的分数是： 30\n",
      "见 只 初\n",
      "欲 若 生\n",
      "如 何 人\n",
      "请输入猜测诗词，回车结束，直接回车表示退出游戏：人生若只如初见\n",
      "答对了，加十分\n",
      "你当前的分数是： 40\n",
      "风 画 何\n",
      "扇 悲 秋\n",
      "事 只 人\n",
      "请输入猜测诗词，回车结束，直接回车表示退出游戏：何事秋风悲画扇\n",
      "答对了，加十分\n",
      "你当前的分数是： 50\n",
      "生 如 人\n",
      "纷 初 见\n",
      "若 画 只\n",
      "请输入猜测诗词，回车结束，直接回车表示退出游戏：\n",
      "退出游戏。\n",
      "你最后的分数是： 50\n"
     ]
    }
   ],
   "source": [
    "import random\n",
    "\n",
    "def get_ch_table(line):\n",
    "    ch_table=[]\n",
    "    for ch in line:\n",
    "        if ch not in ch_table:\n",
    "            ch_table.append(ch)   \n",
    "            \n",
    "    return ch_table\n",
    "\n",
    "\n",
    "def guess_poem(file):\n",
    "    fh=open(file)\n",
    "    text=fh.read()\n",
    "    poems=text.split()\n",
    "    poem=random.choice(poems)\n",
    "    chs=get_ch_table(text.replace(r'\\n', ''))\n",
    "\n",
    "    guess_ch_table = [ch for ch in poem] \n",
    "    while len(guess_ch_table) < 9:\n",
    "        ch = random.choice(chs)\n",
    "        if ch not in guess_ch_table:\n",
    "            guess_ch_table.append(ch)\n",
    "\n",
    "    random.shuffle(guess_ch_table)\n",
    "\n",
    "    for i in range(0,9,3):\n",
    "        print(guess_ch_table[i], guess_ch_table[i+1],guess_ch_table[i+2])\n",
    "    \n",
    "    return poem\n",
    "        \n",
    "\n",
    "def main():\n",
    "    file=r'c:\\temp\\诗词大全.txt'\n",
    "    score=10\n",
    "    while score>=0:\n",
    "        real_poem=guess_poem(file)\n",
    "        answer_poem=input('请输入猜测诗词，回车结束，直接回车表示退出游戏：')\n",
    "        if answer_poem==real_poem:\n",
    "            print('答对了，加十分')\n",
    "            score += 10\n",
    "            print('你当前的分数是：', score)\n",
    "            if score==100:\n",
    "                print('游戏胜利')\n",
    "                return\n",
    "        elif answer_poem=='':\n",
    "            print('退出游戏。')\n",
    "            print('你最后的分数是：', score)\n",
    "            return\n",
    "        else:\n",
    "            score-=10\n",
    "            print('答错了，减十分')\n",
    "            print('诗词其实是：', real_poem)\n",
    "            print('你当前的分数是：', score)\n",
    "        \n",
    "main()"
   ]
  },
  {
   "cell_type": "code",
   "execution_count": null,
   "metadata": {
    "collapsed": true
   },
   "outputs": [],
   "source": []
  }
 ],
 "metadata": {
  "kernelspec": {
   "display_name": "Python 3",
   "language": "python",
   "name": "python3"
  }
 },
 "nbformat": 4,
 "nbformat_minor": 2
}
