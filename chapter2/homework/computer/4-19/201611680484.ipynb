{
 "cells": [
  {
   "cell_type": "code",
   "execution_count": 10,
   "metadata": {
    "collapsed": false
   },
   "outputs": [
    {
     "name": "stdout",
     "output_type": "stream",
     "text": [
      "输入字符串abcde\n",
      "edcba\n"
     ]
    }
   ],
   "source": [
    "def reverse(s):\n",
    "    print(s[len(s)::-1])\n",
    "    \n",
    "s=str(input('输入字符串'))\n",
    "reverse(s)"
   ]
  },
  {
   "cell_type": "code",
   "execution_count": 14,
   "metadata": {
    "collapsed": false
   },
   "outputs": [
    {
     "name": "stdout",
     "output_type": "stream",
     "text": [
      "输入符号：*\n",
      "输入行数：3\n",
      "* \n",
      "* * \n",
      "* * * \n",
      "* * * * \n",
      "* * * * * \n",
      "* * * * * * \n",
      "输入符号：*\n",
      "输入行数：3\n",
      "     * \n",
      "    * * \n",
      "   * * * \n",
      "  * * * * \n",
      " * * * * * \n",
      "* * * * * * \n",
      "输入符号：*\n",
      "输入行数：3\n",
      "          * \n",
      "        * * \n",
      "      * * * \n",
      "    * * * * \n",
      "  * * * * * \n",
      "* * * * * * \n"
     ]
    }
   ],
   "source": [
    "def tran():\n",
    "    m=str(input('输入符号：'))\n",
    "    n=int(input('输入行数：'))\n",
    "    for i in range(1,n*2+1):\n",
    "        for j in range(0,i):\n",
    "            print(m , end=' ')\n",
    "        print()\n",
    "        \n",
    "def tran2():\n",
    "    m=str(input('输入符号：'))\n",
    "    n=int(input('输入行数：'))\n",
    "    for i in range(1,n*2+1):\n",
    "        for k in range(n*2-i,0,-1):\n",
    "            print(' ',end='')\n",
    "        for j in range(0,i):\n",
    "            print(m , end=' ')\n",
    "        print()\n",
    "        \n",
    "def tran3():\n",
    "    m=str(input('输入符号：'))\n",
    "    n=int(input('输入行数：'))\n",
    "    for i in range(1,2*n+1):\n",
    "        for k in range(4*n-2*i,0,-1):\n",
    "            print(' ',end='')\n",
    "        for j in range(0,i):\n",
    "            print(m, end=' ')\n",
    "        print()              \n",
    "        \n",
    "tran()\n",
    "tran2()\n",
    "tran3()"
   ]
  },
  {
   "cell_type": "code",
   "execution_count": 37,
   "metadata": {
    "collapsed": false
   },
   "outputs": [
    {
     "name": "stdout",
     "output_type": "stream",
     "text": [
      "请输入一个单词watch\n",
      "加es\n"
     ]
    }
   ],
   "source": [
    "word=str(input('请输入一个单词'))\n",
    "if word[len(word)-1]=='f':\n",
    "    print('把f变为ve加s')\n",
    "elif word[len(word)-1]=='y':\n",
    "    print('把y变i加es')\n",
    "elif word[len(word)-1]=='s':\n",
    "    print('加es')\n",
    "elif word[len(word)-1]=='h' and word[len(word)-2]=='s':\n",
    "    print('加es')\n",
    "elif word[len(word)-1]=='h' and word[len(word)-2]=='c':\n",
    "    print('加es')\n",
    "elif word[len(word)-1]=='x':\n",
    "    print('加es')\n",
    "else :print('加s')"
   ]
  },
  {
   "cell_type": "code",
   "execution_count": null,
   "metadata": {
    "collapsed": true
   },
   "outputs": [],
   "source": []
  },
  {
   "cell_type": "code",
   "execution_count": null,
   "metadata": {
    "collapsed": true
   },
   "outputs": [],
   "source": []
  }
 ],
 "metadata": {
  "kernelspec": {
   "display_name": "Python 3",
   "language": "python",
   "name": "python3"
  },
  "language_info": {
   "codemirror_mode": {
    "name": "ipython",
    "version": 3
   },
   "file_extension": ".py",
   "mimetype": "text/x-python",
   "name": "python",
   "nbconvert_exporter": "python",
   "pygments_lexer": "ipython3",
   "version": "3.6.0"
  }
 },
 "nbformat": 4,
 "nbformat_minor": 2
}
