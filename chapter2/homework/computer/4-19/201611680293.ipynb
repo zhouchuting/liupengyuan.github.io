{
 "cells": [
  {
   "cell_type": "code",
   "execution_count": 11,
   "metadata": {
    "collapsed": false
   },
   "outputs": [
    {
     "name": "stdout",
     "output_type": "stream",
     "text": [
      "plz enter a stringlanguage\n",
      "egaugnal\n"
     ]
    }
   ],
   "source": [
    "##自己定义一个reverse(s)函数，功能返回字符串s的倒序字符串。\n",
    "\n",
    "def reverse (s):\n",
    "    print(s[len(s)-1::-1])\n",
    "s=str(input(\"plz enter a string\"))\n",
    "reverse(s)"
   ]
  },
  {
   "cell_type": "code",
   "execution_count": 12,
   "metadata": {
    "collapsed": false
   },
   "outputs": [
    {
     "name": "stdout",
     "output_type": "stream",
     "text": [
      "plz enter the height of the triangle\n",
      "7\n",
      "|\\\n",
      "| \\\n",
      "|  \\\n",
      "|   \\\n",
      "|    \\\n",
      "|     \\\n",
      "|______\\\n",
      " \n",
      "       /\\\n",
      "      /  \\\n",
      "     /    \\\n",
      "    /      \\\n",
      "   /        \\\n",
      "  /          \\\n",
      " /____________\\\n"
     ]
    }
   ],
   "source": [
    "##写函数，根据给定符号和行数，打印相应直角三角形，等腰三角形及其他形式的三角形。\n",
    "\n",
    "def triangle (x):\n",
    "    for i in range (x): \n",
    "        if i<x-1:\n",
    "            print('|'+' '*i+'\\\\')\n",
    "        elif i==x-1:  print('|'+'_'*i+'\\\\')\n",
    "    print(' ')\n",
    "    for i in range (x):\n",
    "        if i<x-1:\n",
    "            print(' '*(x-i)+'/'+' '*(2*i)+'\\\\')\n",
    "        elif i==x-1:\n",
    "            print(' '+'/'+'_'*(i+x-1)+'\\\\')\n",
    "    \n",
    "x=int(input(\"plz enter the height of the triangle\\n\"))\n",
    "triangle(x)"
   ]
  },
  {
   "cell_type": "code",
   "execution_count": 3,
   "metadata": {
    "collapsed": false
   },
   "outputs": [
    {
     "name": "stdout",
     "output_type": "stream",
     "text": [
      "plz enter a countable noun\n",
      "apple\n",
      "The plurality of the noun is  apples\n"
     ]
    }
   ],
   "source": [
    "##将任务4中的英语名词单数变复数的函数，尽可能的考虑多种情况，重新进行实现。\n",
    "\n",
    "def change(word):\n",
    "    print('The plurality of the noun is  ',end='')\n",
    "    if word.endswith('ch') or word.endswith('sh'):\n",
    "        print(word+'es')\n",
    "    elif word.endswith('x') or word.endswith('s') or word.endswith('es'):\n",
    "        print(word+'es')\n",
    "    elif word.endswith('f'):\n",
    "        print(word[:len(word)-1:]+'ves')\n",
    "    elif word.endswith('y'):\n",
    "        print(word[:len(word)-1:]+'ies')\n",
    "    else: print(word+'s')\n",
    "        \n",
    "word=str(input(\"plz enter a countable noun\\n\"))\n",
    "change(word)"
   ]
  },
  {
   "cell_type": "code",
   "execution_count": 10,
   "metadata": {
    "collapsed": false
   },
   "outputs": [
    {
     "name": "stdout",
     "output_type": "stream",
     "text": [
      "请输入梯形的上底长4\n",
      "请输入梯形的高6\n"
     ]
    },
    {
     "ename": "NameError",
     "evalue": "name 'y' is not defined",
     "output_type": "error",
     "traceback": [
      "\u001b[1;31m---------------------------------------------------------------------------\u001b[0m",
      "\u001b[1;31mNameError\u001b[0m                                 Traceback (most recent call last)",
      "\u001b[1;32m<ipython-input-10-de7654eb3191>\u001b[0m in \u001b[0;36m<module>\u001b[1;34m()\u001b[0m\n\u001b[0;32m     12\u001b[0m \u001b[0mx\u001b[0m\u001b[1;33m=\u001b[0m\u001b[0mint\u001b[0m\u001b[1;33m(\u001b[0m\u001b[0minput\u001b[0m\u001b[1;33m(\u001b[0m\u001b[1;34m'请输入梯形的上底长'\u001b[0m\u001b[1;33m)\u001b[0m\u001b[1;33m)\u001b[0m\u001b[1;33m\u001b[0m\u001b[0m\n\u001b[0;32m     13\u001b[0m \u001b[0mh\u001b[0m\u001b[1;33m=\u001b[0m\u001b[0mint\u001b[0m\u001b[1;33m(\u001b[0m\u001b[0minput\u001b[0m\u001b[1;33m(\u001b[0m\u001b[1;34m'请输入梯形的高'\u001b[0m\u001b[1;33m)\u001b[0m\u001b[1;33m)\u001b[0m\u001b[1;33m\u001b[0m\u001b[0m\n\u001b[1;32m---> 14\u001b[1;33m \u001b[0mtra\u001b[0m\u001b[1;33m(\u001b[0m\u001b[0mx\u001b[0m\u001b[1;33m,\u001b[0m\u001b[0my\u001b[0m\u001b[1;33m,\u001b[0m\u001b[0mh\u001b[0m\u001b[1;33m)\u001b[0m\u001b[1;33m\u001b[0m\u001b[0m\n\u001b[0m",
      "\u001b[1;31mNameError\u001b[0m: name 'y' is not defined"
     ]
    }
   ],
   "source": [
    "##写函数，根据给定符号，上底、下底、高，打印各种梯形。\n",
    "\n",
    "def tra (x,y,h):\n",
    "    d=h-1\n",
    "    for i in range(h):\n",
    "        if i==0:\n",
    "            print(' '*(d-i)+'/'+'-'*x+'\\\\'+' '*(d-i))\n",
    "        elif i<h-1:\n",
    "            print(' '*(d-i)+'/'+' '*(x+2*(i))+'\\\\'+' '*(d-i))\n",
    "        elif i==h-1:\n",
    "            print(' '*(d-i)+'/'+'_'*(2*i+x)+'\\\\')\n",
    "x=int(input('请输入梯形的上底长'))\n",
    "h=int(input('请输入梯形的高'))\n",
    "tra(x,y,h)"
   ]
  },
  {
   "cell_type": "code",
   "execution_count": 9,
   "metadata": {
    "collapsed": false
   },
   "outputs": [
    {
     "name": "stdout",
     "output_type": "stream",
     "text": [
      "请输入菱形的边长  6\n",
      "      /\\\n",
      "     /  \\\n",
      "    /    \\\n",
      "   /      \\\n",
      "  /        \\\n",
      " /          \\\n",
      " \\          /\n",
      "  \\        /\n",
      "   \\      /\n",
      "    \\    /\n",
      "     \\  /\n",
      "      \\/\n"
     ]
    }
   ],
   "source": [
    "##写函数，根据给定符号，打印菱形。\n",
    "\n",
    "\n",
    "def rhombus (x):\n",
    "    for i in range (x):\n",
    "            print(' '*(x-i)+'/'+' '*(2*i)+'\\\\')\n",
    "    for i in range(x-1,-1,-1):\n",
    "        print(' '*(x-i)+'\\\\'+' '*(2*(i))+'/')\n",
    "x=int(input('请输入菱形的边长  '))\n",
    "rhombus(x)"
   ]
  },
  {
   "cell_type": "code",
   "execution_count": 14,
   "metadata": {
    "collapsed": false
   },
   "outputs": [
    {
     "name": "stdout",
     "output_type": "stream",
     "text": [
      "北京语言大学学大言语京北\n",
      " 北京语言大学大言语京北\n",
      "  北京语言大大言语京北\n",
      "   北京语言大言语京北\n",
      "    北京语言言语京北\n",
      "     北京语言语京北\n",
      "      北京语语京北\n",
      "       北京语京北\n",
      "        北京京北\n",
      "         北京北\n",
      "          北北\n",
      "           北\n"
     ]
    }
   ],
   "source": [
    "##打印回文字符倒三角形\n",
    "\n",
    "\n",
    "def inverted(x):\n",
    "    for i in range(len(x)*2,0,-1):\n",
    "        if i == 1:\n",
    "            print(' '*(len(x)*2-1) +x[0])\n",
    "        elif i%2 == 1:\n",
    "            print(' '*(len(x)*2-i) + x[:i//2] + x[i//2] + x[i//2-1::-1])\n",
    "        else:\n",
    "            print(' '*(len(x)*2-i) + x[:i//2] + x[i//2-1::-1])\n",
    "\n",
    "def main():\n",
    "    word = '北京语言大学'\n",
    "    inverted (word)\n",
    "    \n",
    "\n",
    "if __name__ == '__main__':\n",
    "    main()"
   ]
  }
 ],
 "metadata": {
  "kernelspec": {
   "display_name": "Python 3",
   "language": "python",
   "name": "python3"
  },
  "language_info": {
   "codemirror_mode": {
    "name": "ipython",
    "version": 3
   },
   "file_extension": ".py",
   "mimetype": "text/x-python",
   "name": "python",
   "nbconvert_exporter": "python",
   "pygments_lexer": "ipython3",
   "version": "3.6.0"
  }
 },
 "nbformat": 4,
 "nbformat_minor": 2
}
