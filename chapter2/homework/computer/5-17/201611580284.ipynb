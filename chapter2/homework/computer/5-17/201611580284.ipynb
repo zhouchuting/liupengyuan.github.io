{
 "cells": [
  {
   "cell_type": "code",
   "execution_count": 1,
   "metadata": {
    "collapsed": true
   },
   "outputs": [],
   "source": [
    "def win():\n",
    "    print(\"win\")\n",
    "def lose():\n",
    "    print(\"lose\")"
   ]
  },
  {
   "cell_type": "code",
   "execution_count": 2,
   "metadata": {
    "collapsed": false
   },
   "outputs": [],
   "source": [
    "def get_file():\n",
    "    with open(\"C:\\\\Users\\\\YSX-WDCZ\\\\Desktop\\\\idioms.txt\",'r') as fh:\n",
    "        text = fh.read()\n",
    "        text = text.replace('、','')\n",
    "        idioms = text.split()\n",
    "        with open('C:\\\\Users\\\\YSX-WDCZ\\\\Desktop\\\\new_idioms.txt','w') as fn:\n",
    "            for idiom in idioms:\n",
    "                fn.write(idiom+'\\n')"
   ]
  },
  {
   "cell_type": "code",
   "execution_count": 3,
   "metadata": {
    "collapsed": false
   },
   "outputs": [],
   "source": [
    "def get_words(str):\n",
    "    with open(str,'r') as fn:\n",
    "        words = fn.read().split()\n",
    "        ch_all = []\n",
    "        for word in words :\n",
    "            for ch in word :\n",
    "                if ch not in ch_all:\n",
    "                    ch_all.append(ch)\n",
    "        return ch_all"
   ]
  },
  {
   "cell_type": "code",
   "execution_count": 4,
   "metadata": {
    "collapsed": false
   },
   "outputs": [],
   "source": [
    "import random\n",
    "def word_choose(str,ch_all):\n",
    "    with open(str,'r') as fn:\n",
    "        words = fn.read().split()\n",
    "        word = random.choice(words)\n",
    "        ch_word = []\n",
    "        for ch in word :\n",
    "            if ch not in ch_word:\n",
    "                ch_word.append(ch)\n",
    "        i=0\n",
    "        while(i<2):\n",
    "            ch = random.choice(ch_all)\n",
    "            if ch not in ch_word:\n",
    "                ch_word.append(ch)\n",
    "                i=i+1\n",
    "        random.shuffle(ch_word)\n",
    "        print(ch_word)\n",
    "        answer = input('输入你猜的词：')\n",
    "        if(answer == word):\n",
    "            win()\n",
    "        else:\n",
    "            lose()"
   ]
  },
  {
   "cell_type": "code",
   "execution_count": 7,
   "metadata": {
    "collapsed": false
   },
   "outputs": [
    {
     "name": "stdout",
     "output_type": "stream",
     "text": [
      "['法', '约', '斧', '三', '夭', '章']\n",
      "输入你猜的词：约法三章\n",
      "win\n"
     ]
    }
   ],
   "source": [
    "get_file()\n",
    "ch_all = get_words('C:\\\\Users\\\\YSX-WDCZ\\\\Desktop\\\\new_idioms.txt')\n",
    "word_choose('C:\\\\Users\\\\YSX-WDCZ\\\\Desktop\\\\new_idioms.txt',ch_all)"
   ]
  },
  {
   "cell_type": "code",
   "execution_count": 1,
   "metadata": {
    "collapsed": false
   },
   "outputs": [
    {
     "name": "stdout",
     "output_type": "stream",
     "text": [
      "1\n"
     ]
    }
   ],
   "source": [
    "print(1)"
   ]
  },
  {
   "cell_type": "code",
   "execution_count": null,
   "metadata": {
    "collapsed": true
   },
   "outputs": [],
   "source": []
  }
 ],
 "metadata": {
  "kernelspec": {
   "display_name": "Python 3",
   "language": "python",
   "name": "python3"
  },
  "language_info": {
   "codemirror_mode": {
    "name": "ipython",
    "version": 3
   },
   "file_extension": ".py",
   "mimetype": "text/x-python",
   "name": "python",
   "nbconvert_exporter": "python",
   "pygments_lexer": "ipython3",
   "version": "3.6.0"
  }
 },
 "nbformat": 4,
 "nbformat_minor": 2
}
