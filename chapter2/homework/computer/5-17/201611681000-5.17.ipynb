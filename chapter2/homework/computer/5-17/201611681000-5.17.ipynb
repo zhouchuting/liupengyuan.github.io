{
 "cells": [
  {
   "cell_type": "code",
   "execution_count": null,
   "metadata": {
    "collapsed": false
   },
   "outputs": [
    {
     "name": "stdout",
     "output_type": "stream",
     "text": [
      "欢迎来到诗词大赛，本次大赛分为成语篇和诗歌篇，请选择你要参加的比赛。诗歌请输1，成语请输21\n"
     ]
    }
   ],
   "source": [
    "import random\n",
    "\n",
    "def win():\n",
    "    print(\"U WIN\")\n",
    "    return\n",
    "    \n",
    "def lose():\n",
    "    print('U LOSE')\n",
    "    return\n",
    "    \n",
    "def get_ch_table(line):\n",
    "    ch_table = []\n",
    "    for ch in line:\n",
    "        if ch not in ch_table:\n",
    "            ch_table.append(ch)\n",
    "    return ch_table\n",
    "\n",
    "def idiom_robot(file_name):\n",
    "    with open(file_name) as fh:\n",
    "        text = fh.read()\n",
    "    idioms = text.split()\n",
    "    idiom = random.choice(idioms)\n",
    "    chs = get_ch_table(text.replace(r'\\n', ''))\n",
    "\n",
    "    guess_ch_table = [ch for ch in idiom]\n",
    "    while len(guess_ch_table) < 6:\n",
    "        ch = random.choice(chs)\n",
    "        if ch not in guess_ch_table:\n",
    "            guess_ch_table.append(ch)\n",
    "    random.shuffle(guess_ch_table)\n",
    "    for i in range(0,6,2):\n",
    "        print(guess_ch_table[i], guess_ch_table[i+1])\n",
    "    \n",
    "    return idiom\n",
    "\n",
    "def main():\n",
    "    print('欢迎来到成语大赛，本次比赛到100分封顶')\n",
    "    filename = r'D:\\temp\\idioms_correct.txt'\n",
    "    score = 10\n",
    "    while score >= 0:\n",
    "        real_idiom = idiom_robot(filename)\n",
    "        answer_idiom = input('请输入猜测成语，回车结束，直接回车表示退出游戏：')\n",
    "        if answer_idiom == real_idiom:\n",
    "            print('答对了，加十分')\n",
    "            score += 10\n",
    "            print('你当前的分数是：', score)\n",
    "            if score == 100:\n",
    "                win()\n",
    "                return\n",
    "        elif answer_idiom == '':\n",
    "            print('退出游戏。')\n",
    "            print('你最后的分数是：', score)\n",
    "            return\n",
    "        else:\n",
    "            score -= 10\n",
    "            print('答错了，减十分')\n",
    "            print('成语其实是：', real_idiom)\n",
    "            print('你当前的分数是：', score)\n",
    "    else:\n",
    "        lose()\n",
    "        return\n",
    "\n",
    "n=int(input(\"欢迎来到诗词大赛，本次大赛分为成语篇和诗歌篇，请选择你要参加的比赛。诗歌请输1，成语请输2\"))\n",
    "if n==1:\n",
    "    m=int(input(\"诗歌篇待完善，敬请期待\\n是否参加成语篇，是请输1，否请输2\"))\n",
    "    if m==1:\n",
    "        main()\n",
    "    else: print(\"祝您生活愉快，再见\")\n",
    "if n==2:\n",
    "    main()\n",
    "        \n",
    "\n"
   ]
  },
  {
   "cell_type": "code",
   "execution_count": 11,
   "metadata": {
    "collapsed": false
   },
   "outputs": [
    {
     "name": "stdout",
     "output_type": "stream",
     "text": [
      "['清', '明', '时', '节', '雨', '纷', '纷', '路', '上', '行', '人', '欲', '断', '魂', '借', '问', '酒', '家', '何', '处', '有', '牧', '童', '遥', '指', '杏', '花', '村', '碧', '玉', '妆', '成', '一', '树', '高', '万', '条', '垂', '下', '绿', '丝', '绦', '不', '知', '细', '叶', '谁', '裁', '出', '二', '月', '春', '风', '似', '剪', '刀']\n"
     ]
    }
   ],
   "source": [
    "##诗词大赛\n",
    "def shici(file):\n",
    "    text=[]\n",
    "    characters=[]\n",
    "    with open (file) as f:\n",
    "        text=f.read().split()\n",
    "    for i in range (8):\n",
    "        for j in range (7):\n",
    "            character=text[i][j]\n",
    "            characters.append(character)\n",
    "    print(characters)\n",
    "file = r'D:\\temp\\poem.txt'\n",
    "shici(file)"
   ]
  },
  {
   "cell_type": "code",
   "execution_count": null,
   "metadata": {
    "collapsed": true
   },
   "outputs": [],
   "source": []
  },
  {
   "cell_type": "code",
   "execution_count": null,
   "metadata": {
    "collapsed": true
   },
   "outputs": [],
   "source": []
  }
 ],
 "metadata": {
  "kernelspec": {
   "display_name": "Python 3",
   "language": "python",
   "name": "python3"
  },
  "language_info": {
   "codemirror_mode": {
    "name": "ipython",
    "version": 3
   },
   "file_extension": ".py",
   "mimetype": "text/x-python",
   "name": "python",
   "nbconvert_exporter": "python",
   "pygments_lexer": "ipython3",
   "version": "3.6.0"
  }
 },
 "nbformat": 4,
 "nbformat_minor": 2
}
