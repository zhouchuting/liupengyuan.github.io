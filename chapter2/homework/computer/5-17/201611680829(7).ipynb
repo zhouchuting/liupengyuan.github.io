{
 "cells": [
  {
   "cell_type": "code",
   "execution_count": 1,
   "metadata": {
    "collapsed": false
   },
   "outputs": [
    {
     "name": "stdout",
     "output_type": "stream",
     "text": [
      "\n",
      "花红柳绿\n",
      "绿树成荫\n",
      "应有尽有\n",
      "You lose!\n"
     ]
    }
   ],
   "source": [
    "idiom = ''\n",
    "while 1:\n",
    "    next_idiom = input()\n",
    "    if idiom == '':\n",
    "        idiom = next_idiom\n",
    "    elif idiom[-1] == next_idiom[0]:\n",
    "        idiom = next_idiom\n",
    "    else:\n",
    "        print('You lose!')\n",
    "        break"
   ]
  }
 ],
 "metadata": {
  "kernelspec": {
   "display_name": "Python 3",
   "language": "python",
   "name": "python3"
  },
  "language_info": {
   "codemirror_mode": {
    "name": "ipython",
    "version": 3
   },
   "file_extension": ".py",
   "mimetype": "text/x-python",
   "name": "python",
   "nbconvert_exporter": "python",
   "pygments_lexer": "ipython3",
   "version": "3.6.0"
  }
 },
 "nbformat": 4,
 "nbformat_minor": 2
}
