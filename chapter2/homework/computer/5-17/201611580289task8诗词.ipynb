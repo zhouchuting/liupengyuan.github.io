{
 "cells": [
  {
   "cell_type": "code",
   "execution_count": 8,
   "metadata": {
    "collapsed": false
   },
   "outputs": [
    {
     "name": "stdout",
     "output_type": "stream",
     "text": [
      "['陵', '岳', '里', '千', '日', '江', '五', '两', '泊', '泪', '一', '猿', '还']\n",
      "请输入正确的诗句：千里江陵一日还\n",
      "你赢了！\n",
      "None\n"
     ]
    }
   ],
   "source": [
    "import random\n",
    "\n",
    "def get_str_table(line):\n",
    "    str_table=[]\n",
    "    for str_ in line:\n",
    "        if str_ not in str_table:\n",
    "            str_table.append(str_)\n",
    "    return str_table\n",
    "\n",
    "def win():\n",
    "    print(\"你赢了！\")\n",
    "    \n",
    "def lose():\n",
    "    print(\"你输了！\")\n",
    "\n",
    "def get_poem(line):\n",
    "    poems=[]\n",
    "    poems=line\n",
    "    return poems\n",
    "\n",
    "def get_ch_table(line1,line2):\n",
    "    a=0\n",
    "    ch_table=[]\n",
    "    poem=[]\n",
    "    chtable=[]\n",
    "    poem=random.choice(line1)\n",
    "    ch_table.extend(poem)\n",
    "    for i in range(0,21):\n",
    "        ch_=random.choice(line2)\n",
    "        if ch_ not in chtable:\n",
    "            chtable.append(ch_)\n",
    "    for ch in chtable:\n",
    "        if ch not in ch_table:\n",
    "            ch_table.append(ch)\n",
    "        if len(ch_table)>=13:\n",
    "            return ch_table\n",
    "            break\n",
    "        else:\n",
    "            continue;\n",
    "\n",
    "def get_mass(line):\n",
    "    random.shuffle(line)\n",
    "    return line\n",
    "\n",
    "def check_poem(line1):\n",
    "    poems=[]\n",
    "    character=0\n",
    "    n=input(\"请输入正确的诗句：\")\n",
    "    poems=list(n)\n",
    "    for poem in line1:\n",
    "        character=0\n",
    "        for ch in poem:\n",
    "            if ch in poems:\n",
    "                character=character+1\n",
    "            if character==7:\n",
    "                return win()\n",
    "    print(n)\n",
    "    return lose()\n",
    "        \n",
    "    \n",
    "fh=open(r'd:\\temp\\poem.txt')\n",
    "text=fh.read()\n",
    "text=text.split()\n",
    "text_=''.join(text)\n",
    "fh.close()\n",
    "line_=get_ch_table(text,text_)\n",
    "print(get_mass(line_))\n",
    "print(check_poem(text))"
   ]
  }
 ],
 "metadata": {
  "kernelspec": {
   "display_name": "Python 3",
   "language": "python",
   "name": "python3"
  },
  "language_info": {
   "codemirror_mode": {
    "name": "ipython",
    "version": 3
   },
   "file_extension": ".py",
   "mimetype": "text/x-python",
   "name": "python",
   "nbconvert_exporter": "python",
   "pygments_lexer": "ipython3",
   "version": "3.6.0"
  }
 },
 "nbformat": 4,
 "nbformat_minor": 2
}
