{
 "cells": [
  {
   "cell_type": "code",
   "execution_count": 1,
   "metadata": {
    "collapsed": false
   },
   "outputs": [
    {
     "name": "stdout",
     "output_type": "stream",
     "text": [
      "五花八门\n",
      "门庭若市\n",
      "市井小人\n",
      "人山人海\n",
      "海枯石烂\n",
      "烂七八糟\n",
      "糟糟糕糕\n",
      "高高兴兴\n",
      "you lose\n"
     ]
    }
   ],
   "source": [
    "com=''\n",
    "while 1:\n",
    "    a=input()\n",
    "    if com=='':\n",
    "        com=a\n",
    "    elif com[-1]==a[0]:\n",
    "        com=a\n",
    "    else:\n",
    "        print('you lose')\n",
    "        break"
   ]
  }
 ],
 "metadata": {
  "kernelspec": {
   "display_name": "Python 3",
   "language": "python",
   "name": "python3"
  },
  "language_info": {
   "codemirror_mode": {
    "name": "ipython",
    "version": 3
   },
   "file_extension": ".py",
   "mimetype": "text/x-python",
   "name": "python",
   "nbconvert_exporter": "python",
   "pygments_lexer": "ipython3",
   "version": "3.6.0"
  }
 },
 "nbformat": 4,
 "nbformat_minor": 2
}
