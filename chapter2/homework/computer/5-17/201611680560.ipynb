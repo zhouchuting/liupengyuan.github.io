{
 "cells": [
  {
   "cell_type": "markdown",
   "metadata": {
    "deletable": true,
    "editable": true
   },
   "source": [
    "完整诗词游戏"
   ]
  },
  {
   "cell_type": "code",
   "execution_count": 4,
   "metadata": {
    "collapsed": true,
    "deletable": true,
    "editable": true
   },
   "outputs": [],
   "source": [
    "def win():\n",
    "    print('win!')"
   ]
  },
  {
   "cell_type": "code",
   "execution_count": 5,
   "metadata": {
    "collapsed": true,
    "deletable": true,
    "editable": true
   },
   "outputs": [],
   "source": [
    "def lose():\n",
    "    print('lose!')"
   ]
  },
  {
   "cell_type": "code",
   "execution_count": 1,
   "metadata": {
    "collapsed": true,
    "deletable": true,
    "editable": true
   },
   "outputs": [],
   "source": [
    "def get_ch_table(line):   #返回汉字表\n",
    "    ch_table = []\n",
    "    for ch in line:\n",
    "        if ch not in ch_table:\n",
    "            ch_table.append(ch)\n",
    "    return ch_table"
   ]
  },
  {
   "cell_type": "code",
   "execution_count": 2,
   "metadata": {
    "collapsed": false
   },
   "outputs": [],
   "source": [
    "def get_whole(filename):  #返回全体列表\n",
    "    with open(filename) as fh:\n",
    "        text = fh.read()\n",
    "    whole = text.split()\n",
    "    return whole"
   ]
  },
  {
   "cell_type": "code",
   "execution_count": 2,
   "metadata": {
    "collapsed": true,
    "deletable": true,
    "editable": true
   },
   "outputs": [],
   "source": [
    "def poem_robot(poems):   #随机选择一句诗并在列表中删除，打印打乱顺序的猜诗字表，并返回正确诗句\n",
    "    poem = random.choice(poems)\n",
    "    poems.remove(poem)\n",
    "    chs = get_ch_table(text.replace(r'\\n', ''))\n",
    "\n",
    "    guess_ch_table = [ch for ch in poem]\n",
    "    n = len(guess_ch_table)\n",
    "    \n",
    "    if n == 5:\n",
    "        while len(guess_ch_table) < 9:\n",
    "            ch = random.choice(chs)\n",
    "            if ch not in guess_ch_table:\n",
    "                guess_ch_table.append(ch)\n",
    "                \n",
    "    if n == 7:\n",
    "        while len(guess_ch_table) < 12:\n",
    "            ch = random.choice(chs)\n",
    "            if ch not in guess_ch_table:\n",
    "                guess_ch_table.append(ch)\n",
    "    random.shuffle(guess_ch_table)\n",
    "    \n",
    "    print(guess_ch_table)\n",
    "    \n",
    "    return poem"
   ]
  },
  {
   "cell_type": "code",
   "execution_count": null,
   "metadata": {
    "collapsed": true
   },
   "outputs": [],
   "source": [
    "def idiom_robot(idioms):\n",
    "    idiom = random.choice(idioms)\n",
    "    chs = get_ch_table(text.replace(r'\\n', ''))\n",
    "    idioms.remove(idiom)\n",
    "\n",
    "    guess_ch_table = [ch for ch in idiom]\n",
    "    while len(guess_ch_table) < 6:\n",
    "        ch = random.choice(chs)\n",
    "        if ch not in guess_ch_table:\n",
    "            guess_ch_table.append(ch)\n",
    "    \n",
    "    random.shuffle(guess_ch_table)\n",
    "    \n",
    "    for i in range(0,6,2):\n",
    "        print(guess_ch_table[i], guess_ch_table[i+1])\n",
    "    \n",
    "    return idiom"
   ]
  },
  {
   "cell_type": "code",
   "execution_count": null,
   "metadata": {
    "collapsed": true
   },
   "outputs": [],
   "source": [
    "def play_idiom():\n",
    "    score = 10\n",
    "    while score >= 0:\n",
    "        real_idiom = idiom_robot(idioms)\n",
    "        answer_idiom = input('请输入猜测成语，回车结束，直接回车表示退出游戏：'\n",
    "        if answer_idiom == real_idiom:\n",
    "            print('答对了，加十分')\n",
    "            score += 10\n",
    "            print('你当前的分数是：', score)\n",
    "            if score == 100:\n",
    "                win()\n",
    "                return\n",
    "        elif answer_idiom == '':\n",
    "            print('退出游戏。')\n",
    "            print('你最后的分数是：', score)\n",
    "            return\n",
    "        else:\n",
    "            score -= 10\n",
    "            print('答错了，减十分')\n",
    "            print('成语其实是：', real_idiom)\n",
    "            print('你当前的分数是：', score)\n",
    "    else:\n",
    "        lose()\n",
    "        return"
   ]
  },
  {
   "cell_type": "code",
   "execution_count": null,
   "metadata": {
    "collapsed": true
   },
   "outputs": [],
   "source": [
    "def play_poem()    #猜诗游戏\n",
    "    score = 10\n",
    "    while score >= 0:\n",
    "        real_poem = poem_robot(poems)\n",
    "        answer_poem = input('请输入猜测诗句，回车结束，直接回车表示退出游戏：')\n",
    "        if answer_poem == real_poem:\n",
    "            print('答对了，加十分')\n",
    "            score += 10\n",
    "            print('你当前的分数是：', score)\n",
    "            if score == 100:\n",
    "                win()\n",
    "                return\n",
    "        elif answer_poem == '':\n",
    "            print('退出游戏。')\n",
    "            print('你最后的分数是：', score)\n",
    "            return\n",
    "        else:\n",
    "            score -= 10\n",
    "            print('答错了，减十分')\n",
    "            print('成语其实是：', real_poem)\n",
    "            print('你当前的分数是：', score)\n",
    "    else:\n",
    "        lose()\n",
    "        return\n"
   ]
  },
  {
   "cell_type": "code",
   "execution_count": 3,
   "metadata": {
    "collapsed": true,
    "deletable": true,
    "editable": true
   },
   "outputs": [],
   "source": [
    "def main():      #运行整个游戏\n",
    "    filename1 = r'd:\\temp\\idioms_correct.txt'\n",
    "    filename2 = r'd:\\temp\\poems_correct.txt'\n",
    "    n = int(input('点字成语输入1，点字成诗输入2：'))\n",
    "    \n",
    "    if n == 2:\n",
    "        poems = get_whole(filename2)\n",
    "        play_poem()\n",
    "        \n",
    "    if n == 1:\n",
    "        idioms = get_whole(filename1)\n",
    "        play_idiom()\n",
    "        \n",
    "    else:\n",
    "        print('退出游戏。')\n",
    "        return\n",
    "           \n",
    "if __name__ == '__main()__':\n",
    "    main()"
   ]
  }
 ],
 "metadata": {
  "kernelspec": {
   "display_name": "Python 3",
   "language": "python",
   "name": "python3"
  },
  "language_info": {
   "codemirror_mode": {
    "name": "ipython",
    "version": 3
   },
   "file_extension": ".py",
   "mimetype": "text/x-python",
   "name": "python",
   "nbconvert_exporter": "python",
   "pygments_lexer": "ipython3",
   "version": "3.6.0"
  }
 },
 "nbformat": 4,
 "nbformat_minor": 2
}
