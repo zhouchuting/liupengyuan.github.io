{
 "cells": [
  {
   "cell_type": "code",
   "execution_count": null,
   "metadata": {
    "collapsed": true
   },
   "outputs": [],
   "source": [
    "import random\n",
    "\n",
    "def win():\n",
    "    print(“you win!”)\n",
    "    return\n",
    "\n",
    "def lose():\n",
    "    print(“you lose…”)\n",
    "    return\n",
    "\n",
    "\n",
    "\n",
    "def get_ch_table(line):\n",
    "    ch_table=[]\n",
    "    for ch in line:\n",
    "        if ch not in ch_table:\n",
    "            ch_table.append(ch)\n",
    "    return ch_table\n",
    "\n",
    "//打开文件并制作随机机器人\n",
    "def idiom_robot(file_name):\n",
    "    with open(file_name) as fh:\n",
    "        text=fh.read()\n",
    "    idioms=text.split()\n",
    "    idiom=random.choice(idioms)\n",
    "    chs=get_ch_table(text.replace(r’\\n’,’’))\n",
    "\n",
    "    guess_ch_table=[ch for ch in idiom]\n",
    "    while len(guess_ch_table)<12:\n",
    "        ch=random.choice(chs)\n",
    "        if ch not in guess_ch_table:\n",
    "            guess_ch_table.append(ch)\n",
    "    random.shuffle(guess_ch_table)\n",
    "    for i in range(0,12,3):\n",
    "        print(guess_ch_table[i],guess_ch_table[i+1],guess_ch_table[i+2])\n",
    "    return idiom\n",
    "\n",
    "//function main\n",
    "def main():\n",
    "    filename=r’d:\\temp\\idioms_correct.txt’\n",
    "    score=10\n",
    "    while score>=0:\n",
    "        real_idiom=idiom_robot(filename)\n",
    "        answer_idiom=input(‘请输入猜测的诗句，回车结束。直接回车结束游戏。’)\n",
    "        if answer_idiom==real_idiom:\n",
    "            print(‘答对了，加10分。’)\n",
    "            score+=10\n",
    "            print(‘您当前的分数为：’,score)\n",
    "            if score==100:\n",
    "                win()\n",
    "                return\n",
    "        elif answer_idiom==‘’\n",
    "            print(‘您最后的分数是：’,score,’\\n’,’游戏结束。’)\n",
    "            return\n",
    "        else:\n",
    "            print(‘答错了，减10分。’)\n",
    "            score-=10\n",
    "            print(‘您当前的分数为：’,score)\n",
    "    else:\n",
    "        lose()\n",
    "        return\n",
    "\n",
    "main()\n"
   ]
  }
 ],
 "metadata": {
  "kernelspec": {
   "display_name": "Python 3",
   "language": "python",
   "name": "python3"
  },
  "language_info": {
   "codemirror_mode": {
    "name": "ipython",
    "version": 3
   },
   "file_extension": ".py",
   "mimetype": "text/x-python",
   "name": "python",
   "nbconvert_exporter": "python",
   "pygments_lexer": "ipython3",
   "version": "3.6.0"
  }
 },
 "nbformat": 4,
 "nbformat_minor": 2
}
