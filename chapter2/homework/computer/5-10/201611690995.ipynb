{
 "cells": [
  {
   "cell_type": "code",
   "execution_count": 1,
   "metadata": {
    "collapsed": true
   },
   "outputs": [],
   "source": [
    "import random\n",
    "file=open(r'D:\\code.txt')\n",
    "text=file.read()\n",
    "file.close()\n",
    "file=open(r'D:\\incode.txt','w')\n",
    "words=text.split(' ')\n",
    "keys=[]\n",
    "word=[]\n",
    "key=[]\n",
    "lengths=[]\n",
    "for word in words:\n",
    "    key=str(random.randint(100000000,1000000000))+str(len(word)-1)\n",
    "    lengths.append(len(word))\n",
    "    keys.append(key)\n",
    "    for i in range(0,len(word)):\n",
    "        incodeword=ord(word[i])+int(key[i])\n",
    "        if word[i].isupper() and incodeword>90:\n",
    "            incodeword-=26\n",
    "        elif word[i].islower() and incodeword>122:\n",
    "            incodeword-=26\n",
    "        file.write(chr(incodeword))\n",
    "    while i<9:\n",
    "        file.write(chr(random.randint(97,122)))\n",
    "        i=i+1\n",
    "    file.write(' ')\n",
    "file.close()\n",
    "file=open(r'D:\\incode.txt')\n",
    "text=file.read()\n",
    "file.close()\n",
    "words=text.split(' ')\n",
    "words.pop()\n",
    "file=open(r'D:\\decode.txt','w')\n",
    "count=0\n",
    "for word in words:\n",
    "    for i in range(0,lengths[count]):\n",
    "        decodeword=ord(word[i])-int(keys[count][i])\n",
    "        if word[i].isupper() and decodeword<65:\n",
    "            decodeword+=26\n",
    "        elif word[i].islower() and decodeword<97:\n",
    "            decodeword+=26\n",
    "        file.write(chr(decodeword))\n",
    "    file.write(' ')\n",
    "    count=count+1\n",
    "file.close()"
   ]
  },
  {
   "cell_type": "code",
   "execution_count": null,
   "metadata": {
    "collapsed": true
   },
   "outputs": [],
   "source": []
  }
 ],
 "metadata": {
  "kernelspec": {
   "display_name": "Python 3",
   "language": "python",
   "name": "python3"
  },
  "language_info": {
   "codemirror_mode": {
    "name": "ipython",
    "version": 3
   },
   "file_extension": ".py",
   "mimetype": "text/x-python",
   "name": "python",
   "nbconvert_exporter": "python",
   "pygments_lexer": "ipython3",
   "version": "3.6.0"
  }
 },
 "nbformat": 4,
 "nbformat_minor": 2
}
