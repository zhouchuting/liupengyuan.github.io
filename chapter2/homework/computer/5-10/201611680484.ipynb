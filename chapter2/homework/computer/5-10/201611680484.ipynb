{
 "cells": [
  {
   "cell_type": "code",
   "execution_count": 1,
   "metadata": {
    "collapsed": false
   },
   "outputs": [],
   "source": [
    "import random\n",
    "\n",
    "def gen_key(n,upper_bound):\n",
    "    key=[]\n",
    "    for i in range(n):\n",
    "        key.append(random.randint(0,upper_bound))\n",
    "    return key"
   ]
  },
  {
   "cell_type": "code",
   "execution_count": 2,
   "metadata": {
    "collapsed": true
   },
   "outputs": [],
   "source": [
    "def en_correct_ord(order):\n",
    "    if 97>order>90:\n",
    "        return order+6\n",
    "    if order>122:\n",
    "        return order-122+64\n",
    "    return order"
   ]
  },
  {
   "cell_type": "code",
   "execution_count": 3,
   "metadata": {
    "collapsed": true
   },
   "outputs": [],
   "source": [
    "def de_correct_ord(order):\n",
    "    if 97>order>90:\n",
    "        return order-6\n",
    "    if order <65:\n",
    "        return order+122-64\n",
    "    return order"
   ]
  },
  {
   "cell_type": "code",
   "execution_count": 4,
   "metadata": {
    "collapsed": true
   },
   "outputs": [],
   "source": [
    "def correct_num(number):\n",
    "    order=number+65\n",
    "    if order>90:\n",
    "        return order+6\n",
    "    return order"
   ]
  },
  {
   "cell_type": "code",
   "execution_count": 5,
   "metadata": {
    "collapsed": true
   },
   "outputs": [],
   "source": [
    "def decryption(file,keys):\n",
    "    real_text=''\n",
    "    with open(file) as f:\n",
    "        words=f.read().split()\n",
    "    for index, word in enumerate(words):\n",
    "        cut_word=word[:keys[index][0]+1]\n",
    "        for i,ch in enumerate(cut_word):\n",
    "            real_text+=chr(de_correct_ord(ord(ch)-keys[index][i]))\n",
    "        real_text+=' '\n",
    "    return real_text"
   ]
  },
  {
   "cell_type": "code",
   "execution_count": 6,
   "metadata": {
    "collapsed": true
   },
   "outputs": [],
   "source": [
    "def encryption(infile,outfile):\n",
    "    keys=[]\n",
    "    encrpt_texts=[]\n",
    "    with open(infile) as f:\n",
    "        words=f.read().split()\n",
    "    for word in words:\n",
    "        encrpt_text=''\n",
    "        key=[len(word)-1]+gen_key(9,9)\n",
    "        keys.append(key)\n",
    "        \n",
    "        for index,ch in enumerate(word):\n",
    "            encrpt_text+=chr(en_correct_ord(ord(ch)+key[index]))\n",
    "            \n",
    "        for number in gen_key(10-len(word),51):\n",
    "            encrpt_text+=chr(correct_num(number))\n",
    "        encrpt_texts.append(encrpt_text)\n",
    "    with open(outfile,'w',encoding='gbk') as f:\n",
    "        f.write(' '.join(encrpt_texts))\n",
    "    return keys"
   ]
  },
  {
   "cell_type": "code",
   "execution_count": 8,
   "metadata": {
    "collapsed": false
   },
   "outputs": [],
   "source": [
    "in_file=r'C:\\Users\\apple\\Desktop\\d.txt'\n",
    "out_file=r'C:\\Users\\apple\\Desktop\\d.txt'\n",
    "my_keys=encryption(in_file,out_file)"
   ]
  },
  {
   "cell_type": "code",
   "execution_count": 9,
   "metadata": {
    "collapsed": false
   },
   "outputs": [
    {
     "data": {
      "text/plain": [
       "'he is a murderer '"
      ]
     },
     "execution_count": 9,
     "metadata": {},
     "output_type": "execute_result"
    }
   ],
   "source": [
    "decryption(out_file,my_keys)"
   ]
  },
  {
   "cell_type": "code",
   "execution_count": null,
   "metadata": {
    "collapsed": true
   },
   "outputs": [],
   "source": []
  }
 ],
 "metadata": {
  "kernelspec": {
   "display_name": "Python 3",
   "language": "python",
   "name": "python3"
  },
  "language_info": {
   "codemirror_mode": {
    "name": "ipython",
    "version": 3
   },
   "file_extension": ".py",
   "mimetype": "text/x-python",
   "name": "python",
   "nbconvert_exporter": "python",
   "pygments_lexer": "ipython3",
   "version": "3.6.0"
  }
 },
 "nbformat": 4,
 "nbformat_minor": 2
}
